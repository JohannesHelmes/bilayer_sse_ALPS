{
 "cells": [
  {
   "cell_type": "markdown",
   "metadata": {},
   "source": [
    "## Quick Tests"
   ]
  },
  {
   "cell_type": "code",
   "execution_count": 2,
   "metadata": {
    "collapsed": false
   },
   "outputs": [],
   "source": [
    "# XY Bilayer total entropy\n",
    "using PyPlot\n",
    "pygui(true)\n",
    "\n",
    "figure(figsize=(15,6))\n",
    "subplot(121)\n",
    "L = [8,10,12]\n",
    "DataDict = Dict{Float64, Array{Float64,2}}()\n",
    "\n",
    "for (i,l) in enumerate(L)\n",
    "    data  = readdlm(\"XYsquare$(l).dat\");\n",
    "    for (j,s,serr) in zip(data[:,1],data[:,2],data[:,3])\n",
    "        if ! haskey(DataDict, j)\n",
    "            DataDict[j]=zeros(length(L),3)\n",
    "            DataDict[j][1,:]= [l, s, serr]\n",
    "        else\n",
    "            DataDict[j][i,:]= [l, s, serr]\n",
    "        end\n",
    "    end\n",
    "    errorbar(data[:,1],data[:,2],data[:,3],label=\"L=$l\")\n",
    "end\n",
    "\n",
    "area_law_coeff = zeros(length(DataDict),3)\n",
    "for (i, ( j, data) ) in enumerate(DataDict)\n",
    "    a,b = linreg(data[:,1], data[:,2])\n",
    "    area_law_coeff[i,1] = j\n",
    "    area_law_coeff[i,2] = b\n",
    "end\n",
    "\n",
    "axvline(5.46)\n",
    "xlabel(L\"$j_\\perp$\")\n",
    "ylabel(L\"$S_2$\")\n",
    "alc = sortrows(area_law_coeff)\n",
    "legend()\n",
    "\n",
    "subplot(122)\n",
    "xlabel(L\"$j_\\perp$\")\n",
    "ylabel(\"area law coefficient\")\n",
    "\n",
    "plot(alc[:,1], alc[:,2])\n",
    "axvline(5.46)\n",
    "\n",
    "savefig(\"XYarea_law_coeff.pdf\")\n",
    "\n",
    "#println(DataDict)\n",
    "\n",
    "# xlim(0.1,0.3)\n"
   ]
  }
 ],
 "metadata": {
  "kernelspec": {
   "display_name": "Julia 0.4.5",
   "language": "julia",
   "name": "julia-0.4"
  },
  "language_info": {
   "file_extension": ".jl",
   "mimetype": "application/julia",
   "name": "julia",
   "version": "0.4.5"
  }
 },
 "nbformat": 4,
 "nbformat_minor": 0
}
