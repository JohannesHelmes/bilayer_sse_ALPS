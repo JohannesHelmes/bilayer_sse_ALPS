{
 "cells": [
  {
   "cell_type": "markdown",
   "metadata": {},
   "source": [
    "## Quick Tests"
   ]
  },
  {
   "cell_type": "code",
   "execution_count": 3,
   "metadata": {
    "collapsed": false
   },
   "outputs": [
    {
     "data": {
      "text/plain": [
       "(PyObject <matplotlib.lines.Line2D object at 0x7feac4c78f90>,(PyObject <matplotlib.lines.Line2D object at 0x7feac4c786d0>,PyObject <matplotlib.lines.Line2D object at 0x7feac4c78910>),(PyObject <matplotlib.collections.LineCollection object at 0x7feac4ce8d90>,))"
      ]
     },
     "execution_count": 3,
     "metadata": {},
     "output_type": "execute_result"
    }
   ],
   "source": [
    "# XY Bilayer total entropy\n",
    "using PyPlot\n",
    "pygui(true)\n",
    "data  = readdlm(\"XYsquare8.dat\");\n",
    "\n",
    "errorbar(data[:,1],data[:,2],data[:,3])\n",
    "\n",
    "# xlim(0.1,0.3)\n"
   ]
  }
 ],
 "metadata": {
  "kernelspec": {
   "display_name": "Julia 0.4.5",
   "language": "julia",
   "name": "julia-0.4"
  },
  "language_info": {
   "file_extension": ".jl",
   "mimetype": "application/julia",
   "name": "julia",
   "version": "0.4.5"
  }
 },
 "nbformat": 4,
 "nbformat_minor": 0
}
